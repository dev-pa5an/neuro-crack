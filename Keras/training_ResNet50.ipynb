{
  "cells": [
    {
      "cell_type": "markdown",
      "metadata": {
        "id": "9008da8d-7cb4-4333-925d-9937c5a83ab6"
      },
      "source": [
        "## Import Libraries and Packages\n"
      ]
    },
    {
      "cell_type": "code",
      "source": [
        "pip install skillsnetwork"
      ],
      "metadata": {
        "colab": {
          "base_uri": "https://localhost:8080/"
        },
        "id": "wjJeX7dZGvcI",
        "outputId": "f5775a10-69e7-493c-99a0-d00ab351b152"
      },
      "execution_count": 2,
      "outputs": [
        {
          "output_type": "stream",
          "name": "stdout",
          "text": [
            "Collecting skillsnetwork\n",
            "  Downloading skillsnetwork-0.21.9-py3-none-any.whl (26 kB)\n",
            "Requirement already satisfied: ipython in /usr/local/lib/python3.10/dist-packages (from skillsnetwork) (7.34.0)\n",
            "Collecting ipywidgets<9,>=8 (from skillsnetwork)\n",
            "  Downloading ipywidgets-8.1.2-py3-none-any.whl (139 kB)\n",
            "\u001b[2K     \u001b[90m━━━━━━━━━━━━━━━━━━━━━━━━━━━━━━━━━━━━━━━━\u001b[0m \u001b[32m139.4/139.4 kB\u001b[0m \u001b[31m3.6 MB/s\u001b[0m eta \u001b[36m0:00:00\u001b[0m\n",
            "\u001b[?25hRequirement already satisfied: requests<3,>=2 in /usr/local/lib/python3.10/dist-packages (from skillsnetwork) (2.31.0)\n",
            "Requirement already satisfied: tqdm<5,>=4 in /usr/local/lib/python3.10/dist-packages (from skillsnetwork) (4.66.4)\n",
            "Collecting comm>=0.1.3 (from ipywidgets<9,>=8->skillsnetwork)\n",
            "  Downloading comm-0.2.2-py3-none-any.whl (7.2 kB)\n",
            "Requirement already satisfied: traitlets>=4.3.1 in /usr/local/lib/python3.10/dist-packages (from ipywidgets<9,>=8->skillsnetwork) (5.7.1)\n",
            "Collecting widgetsnbextension~=4.0.10 (from ipywidgets<9,>=8->skillsnetwork)\n",
            "  Downloading widgetsnbextension-4.0.10-py3-none-any.whl (2.3 MB)\n",
            "\u001b[2K     \u001b[90m━━━━━━━━━━━━━━━━━━━━━━━━━━━━━━━━━━━━━━━━\u001b[0m \u001b[32m2.3/2.3 MB\u001b[0m \u001b[31m35.5 MB/s\u001b[0m eta \u001b[36m0:00:00\u001b[0m\n",
            "\u001b[?25hRequirement already satisfied: jupyterlab-widgets~=3.0.10 in /usr/local/lib/python3.10/dist-packages (from ipywidgets<9,>=8->skillsnetwork) (3.0.10)\n",
            "Requirement already satisfied: setuptools>=18.5 in /usr/local/lib/python3.10/dist-packages (from ipython->skillsnetwork) (67.7.2)\n",
            "Collecting jedi>=0.16 (from ipython->skillsnetwork)\n",
            "  Downloading jedi-0.19.1-py2.py3-none-any.whl (1.6 MB)\n",
            "\u001b[2K     \u001b[90m━━━━━━━━━━━━━━━━━━━━━━━━━━━━━━━━━━━━━━━━\u001b[0m \u001b[32m1.6/1.6 MB\u001b[0m \u001b[31m72.4 MB/s\u001b[0m eta \u001b[36m0:00:00\u001b[0m\n",
            "\u001b[?25hRequirement already satisfied: decorator in /usr/local/lib/python3.10/dist-packages (from ipython->skillsnetwork) (4.4.2)\n",
            "Requirement already satisfied: pickleshare in /usr/local/lib/python3.10/dist-packages (from ipython->skillsnetwork) (0.7.5)\n",
            "Requirement already satisfied: prompt-toolkit!=3.0.0,!=3.0.1,<3.1.0,>=2.0.0 in /usr/local/lib/python3.10/dist-packages (from ipython->skillsnetwork) (3.0.43)\n",
            "Requirement already satisfied: pygments in /usr/local/lib/python3.10/dist-packages (from ipython->skillsnetwork) (2.16.1)\n",
            "Requirement already satisfied: backcall in /usr/local/lib/python3.10/dist-packages (from ipython->skillsnetwork) (0.2.0)\n",
            "Requirement already satisfied: matplotlib-inline in /usr/local/lib/python3.10/dist-packages (from ipython->skillsnetwork) (0.1.7)\n",
            "Requirement already satisfied: pexpect>4.3 in /usr/local/lib/python3.10/dist-packages (from ipython->skillsnetwork) (4.9.0)\n",
            "Requirement already satisfied: charset-normalizer<4,>=2 in /usr/local/lib/python3.10/dist-packages (from requests<3,>=2->skillsnetwork) (3.3.2)\n",
            "Requirement already satisfied: idna<4,>=2.5 in /usr/local/lib/python3.10/dist-packages (from requests<3,>=2->skillsnetwork) (3.7)\n",
            "Requirement already satisfied: urllib3<3,>=1.21.1 in /usr/local/lib/python3.10/dist-packages (from requests<3,>=2->skillsnetwork) (2.0.7)\n",
            "Requirement already satisfied: certifi>=2017.4.17 in /usr/local/lib/python3.10/dist-packages (from requests<3,>=2->skillsnetwork) (2024.2.2)\n",
            "Requirement already satisfied: parso<0.9.0,>=0.8.3 in /usr/local/lib/python3.10/dist-packages (from jedi>=0.16->ipython->skillsnetwork) (0.8.4)\n",
            "Requirement already satisfied: ptyprocess>=0.5 in /usr/local/lib/python3.10/dist-packages (from pexpect>4.3->ipython->skillsnetwork) (0.7.0)\n",
            "Requirement already satisfied: wcwidth in /usr/local/lib/python3.10/dist-packages (from prompt-toolkit!=3.0.0,!=3.0.1,<3.1.0,>=2.0.0->ipython->skillsnetwork) (0.2.13)\n",
            "Installing collected packages: widgetsnbextension, jedi, comm, ipywidgets, skillsnetwork\n",
            "  Attempting uninstall: widgetsnbextension\n",
            "    Found existing installation: widgetsnbextension 3.6.6\n",
            "    Uninstalling widgetsnbextension-3.6.6:\n",
            "      Successfully uninstalled widgetsnbextension-3.6.6\n",
            "  Attempting uninstall: ipywidgets\n",
            "    Found existing installation: ipywidgets 7.7.1\n",
            "    Uninstalling ipywidgets-7.7.1:\n",
            "      Successfully uninstalled ipywidgets-7.7.1\n",
            "Successfully installed comm-0.2.2 ipywidgets-8.1.2 jedi-0.19.1 skillsnetwork-0.21.9 widgetsnbextension-4.0.10\n"
          ]
        }
      ]
    },
    {
      "cell_type": "code",
      "metadata": {
        "id": "2cc2be08-b540-4918-b1a9-a2df287ff4d9"
      },
      "outputs": [],
      "source": [
        "import skillsnetwork"
      ],
      "execution_count": 3
    },
    {
      "cell_type": "code",
      "metadata": {
        "id": "675684c0-2392-4487-953a-99b049b0450c"
      },
      "outputs": [],
      "source": [
        "from keras.preprocessing.image import ImageDataGenerator"
      ],
      "execution_count": 4
    },
    {
      "cell_type": "code",
      "metadata": {
        "id": "58f57fd4-ffb5-4fd7-a67c-0cf73a1cacde"
      },
      "outputs": [],
      "source": [
        "import keras\n",
        "from keras.models import Sequential\n",
        "from keras.layers import Dense"
      ],
      "execution_count": 5
    },
    {
      "cell_type": "code",
      "metadata": {
        "id": "f96d6994-63e4-4297-b98a-0c2ab2439cd0"
      },
      "outputs": [],
      "source": [
        "from keras.applications import ResNet50\n",
        "from keras.applications.resnet50 import preprocess_input"
      ],
      "execution_count": 6
    },
    {
      "cell_type": "markdown",
      "metadata": {
        "id": "53d76782-0cd7-4ced-8a37-096675e632d3"
      },
      "source": [
        "<a id='item32'></a>\n"
      ]
    },
    {
      "cell_type": "markdown",
      "metadata": {
        "id": "9e55f048-ce67-455a-9e3a-dc5cc0ded766"
      },
      "source": [
        "## Download Data\n"
      ]
    },
    {
      "cell_type": "code",
      "metadata": {
        "colab": {
          "base_uri": "https://localhost:8080/",
          "height": 35,
          "referenced_widgets": [
            "9fba51b816e4436eb1b1bfddd9978096",
            "71c398330887416c84c4833741fdf97e",
            "a5bd863576c44b6fb4f2292462d75796",
            "9f9e4db71017444db9059273f992a65e",
            "d07d01d1ff9e48a3810b3fd9a5b144d6",
            "bf484b966c824d478a18d04829d72fb5",
            "f9f9d3a4d6834ce194e2d381613a8f7d",
            "e68c02296fe04ea1a24b676bdfb766eb",
            "48f063f1fc254d76b0632c6e4f8363f6",
            "a753cafcac0a45aeac77f08464a8a5f6",
            "c5956c88f44a4ff197a627e36761462c",
            "25b1c0b765744f028ec698adfc5bb574",
            "1279f56d6ec341c9b95b04dcba286c40",
            "9520bd98921d410a84776b8b79a7ae8e",
            "059b024ccda943759b8af25fdfc769cd",
            "4a699f306cfa4b57bd350f1fb2f54d24",
            "0b9be4275975490bac120049bc4873a9",
            "54252bdee8bd45d89299b4ff2c3e8877",
            "705b8dc0c2dc4cf5b0f839e2ae319757",
            "3881346fba034ef7b86206409feff754",
            "3bce1ae738254d858af7a1a9768ba3fa",
            "0eb8f0346f174bb09caf499cc0803fad"
          ]
        },
        "id": "24ee9fe4-8e25-45a5-b56b-61c51b69bbb5",
        "outputId": "1cd73dd8-c1ca-483e-b4c6-60abfa13cc97"
      },
      "outputs": [
        {
          "output_type": "display_data",
          "data": {
            "text/plain": [
              "Downloading concrete_data_week3.zip:   0%|          | 0/97863179 [00:00<?, ?it/s]"
            ],
            "application/vnd.jupyter.widget-view+json": {
              "version_major": 2,
              "version_minor": 0,
              "model_id": "9fba51b816e4436eb1b1bfddd9978096"
            }
          },
          "metadata": {}
        },
        {
          "output_type": "display_data",
          "data": {
            "text/plain": [
              "  0%|          | 0/30036 [00:00<?, ?it/s]"
            ],
            "application/vnd.jupyter.widget-view+json": {
              "version_major": 2,
              "version_minor": 0,
              "model_id": "25b1c0b765744f028ec698adfc5bb574"
            }
          },
          "metadata": {}
        },
        {
          "output_type": "stream",
          "name": "stdout",
          "text": [
            "Saved to '.'\n"
          ]
        }
      ],
      "source": [
        "## get the data\n",
        "await skillsnetwork.prepare(\"https://cf-courses-data.s3.us.cloud-object-storage.appdomain.cloud/IBMDeveloperSkillsNetwork-DL0321EN-SkillsNetwork/concrete_data_week3.zip\", overwrite=True)"
      ],
      "execution_count": 7
    },
    {
      "cell_type": "markdown",
      "metadata": {
        "id": "ddd1dd78-ec92-4710-8cdf-47091a74a872"
      },
      "source": [
        "<a id='item33'></a>\n"
      ]
    },
    {
      "cell_type": "markdown",
      "metadata": {
        "id": "877483a0-cb76-4928-a36a-39785cf04808"
      },
      "source": [
        "## Define Global Constants\n"
      ]
    },
    {
      "cell_type": "code",
      "metadata": {
        "id": "b5f7cace-b3c4-4e58-9c0d-5b52f3357713"
      },
      "outputs": [],
      "source": [
        "num_classes = 2\n",
        "\n",
        "image_resize = 224\n",
        "\n",
        "batch_size_training = 100\n",
        "batch_size_validation = 100"
      ],
      "execution_count": 8
    },
    {
      "cell_type": "markdown",
      "metadata": {
        "id": "0183cdad-017f-41ea-ac37-d979b398ad16"
      },
      "source": [
        "<a id='item34'></a>\n"
      ]
    },
    {
      "cell_type": "markdown",
      "metadata": {
        "id": "cac7d34d-9a92-44de-8245-d22202b73b3a"
      },
      "source": [
        "## Construct ImageDataGenerator Instances\n"
      ]
    },
    {
      "cell_type": "code",
      "metadata": {
        "id": "db7834eb-a1e4-4a4b-a075-29900939bdc4"
      },
      "outputs": [],
      "source": [
        "data_generator = ImageDataGenerator(\n",
        "    preprocessing_function=preprocess_input,\n",
        ")"
      ],
      "execution_count": 9
    },
    {
      "cell_type": "code",
      "metadata": {
        "colab": {
          "base_uri": "https://localhost:8080/"
        },
        "id": "595ecbe2-bfdc-4523-9acd-3706181796b8",
        "outputId": "0ddb8678-4878-4b71-be0a-5704eb06f176"
      },
      "outputs": [
        {
          "output_type": "stream",
          "name": "stdout",
          "text": [
            "Found 10001 images belonging to 2 classes.\n"
          ]
        }
      ],
      "source": [
        "train_generator = data_generator.flow_from_directory(\n",
        "    'concrete_data_week3/train',\n",
        "    target_size=(image_resize, image_resize),\n",
        "    batch_size=batch_size_training,\n",
        "    class_mode='categorical')"
      ],
      "execution_count": 10
    },
    {
      "cell_type": "code",
      "metadata": {
        "colab": {
          "base_uri": "https://localhost:8080/"
        },
        "id": "cc0f0817-76c4-4467-a062-c0c302658371",
        "outputId": "345ed2ea-06d0-4cb3-acd2-1dcc92f89bef"
      },
      "outputs": [
        {
          "output_type": "stream",
          "name": "stdout",
          "text": [
            "Found 5001 images belonging to 2 classes.\n"
          ]
        }
      ],
      "source": [
        "validation_generator = data_generator.flow_from_directory(\n",
        "    'concrete_data_week3/valid',\n",
        "    target_size=(image_resize, image_resize),\n",
        "    batch_size=batch_size_validation,\n",
        "    class_mode='categorical')"
      ],
      "execution_count": 12
    },
    {
      "cell_type": "markdown",
      "metadata": {
        "id": "9cefbac4-f731-44a4-b928-c53b635b687f"
      },
      "source": [
        "<a id='item35'></a>\n"
      ]
    },
    {
      "cell_type": "code",
      "metadata": {
        "id": "324b72dc-2a07-48a6-a4e7-b91de8338dcd"
      },
      "outputs": [],
      "source": [
        "model = Sequential()"
      ],
      "execution_count": 13
    },
    {
      "cell_type": "markdown",
      "metadata": {
        "id": "5f9ce8f4-3052-478f-92e0-412574a9ffba"
      },
      "source": [
        "add the ResNet50 pre-trained model to out model. In order to leave out the output layer of the pre-trained model, we will use the argument *include_top* and set it to **False**.\n"
      ]
    },
    {
      "cell_type": "code",
      "metadata": {
        "colab": {
          "base_uri": "https://localhost:8080/"
        },
        "id": "4f75d767-8ca1-4cea-b11f-e8c73909ef35",
        "outputId": "ea2537d1-bda8-43ce-d567-b71b67a95acf"
      },
      "outputs": [
        {
          "output_type": "stream",
          "name": "stdout",
          "text": [
            "Downloading data from https://storage.googleapis.com/tensorflow/keras-applications/resnet/resnet50_weights_tf_dim_ordering_tf_kernels_notop.h5\n",
            "94765736/94765736 [==============================] - 4s 0us/step\n"
          ]
        }
      ],
      "source": [
        "model.add(ResNet50(\n",
        "    include_top=False,\n",
        "    pooling='avg',\n",
        "    weights='imagenet',\n",
        "    ))"
      ],
      "execution_count": 14
    },
    {
      "cell_type": "markdown",
      "metadata": {
        "id": "5fa6e617-2400-470a-aad9-416bdc45f07b"
      },
      "source": [
        "define output layer as a **Dense** layer, that consists of two nodes and uses the **Softmax** function as the activation function.\n"
      ]
    },
    {
      "cell_type": "code",
      "metadata": {
        "id": "517f94df-1874-457c-84e6-e1dba49f86e0"
      },
      "outputs": [],
      "source": [
        "model.add(Dense(num_classes, activation='softmax'))"
      ],
      "execution_count": 15
    },
    {
      "cell_type": "markdown",
      "metadata": {
        "id": "1dd8b80d-795d-41cc-897f-d942bb8ceaa5"
      },
      "source": [
        "access the model's layers using the *layers* attribute of our model object.\n"
      ]
    },
    {
      "cell_type": "code",
      "metadata": {
        "colab": {
          "base_uri": "https://localhost:8080/"
        },
        "id": "7c3e20f7-ccd7-42aa-8a95-5bd0e5361899",
        "outputId": "8b66b1eb-fae5-41a3-a13c-7f53ff111f25"
      },
      "outputs": [
        {
          "output_type": "execute_result",
          "data": {
            "text/plain": [
              "[<keras.src.engine.functional.Functional at 0x7b2243aedf30>,\n",
              " <keras.src.layers.core.dense.Dense at 0x7b2243907730>]"
            ]
          },
          "metadata": {},
          "execution_count": 16
        }
      ],
      "source": [
        "model.layers"
      ],
      "execution_count": 16
    },
    {
      "cell_type": "markdown",
      "metadata": {
        "id": "ead62664-0389-4b64-a87b-31054cae45f1"
      },
      "source": [
        "our model is composed of two sets of layers. The first set is the layers pertaining to ResNet50 and the second set is a single layer, which is our Dense layer that we defined above.\n"
      ]
    },
    {
      "cell_type": "markdown",
      "metadata": {
        "id": "bfb56e7f-9153-4ecb-a22f-34e4a82c3a1e"
      },
      "source": [
        "access the ResNet50 layers by running the following:\n"
      ]
    },
    {
      "cell_type": "code",
      "metadata": {
        "colab": {
          "base_uri": "https://localhost:8080/"
        },
        "id": "3adb56a8-130d-4e65-8f77-f015cf759afa",
        "outputId": "becb2f2f-a858-4474-8216-0cf34d58ae8f"
      },
      "outputs": [
        {
          "output_type": "execute_result",
          "data": {
            "text/plain": [
              "[<keras.src.engine.input_layer.InputLayer at 0x7b22439074c0>,\n",
              " <keras.src.layers.reshaping.zero_padding2d.ZeroPadding2D at 0x7b22439078b0>,\n",
              " <keras.src.layers.convolutional.conv2d.Conv2D at 0x7b2243907d60>,\n",
              " <keras.src.layers.normalization.batch_normalization.BatchNormalization at 0x7b2244678a60>,\n",
              " <keras.src.layers.core.activation.Activation at 0x7b2244678e20>,\n",
              " <keras.src.layers.reshaping.zero_padding2d.ZeroPadding2D at 0x7b22446780a0>,\n",
              " <keras.src.layers.pooling.max_pooling2d.MaxPooling2D at 0x7b224467a530>,\n",
              " <keras.src.layers.convolutional.conv2d.Conv2D at 0x7b224467af50>,\n",
              " <keras.src.layers.normalization.batch_normalization.BatchNormalization at 0x7b2244b098a0>,\n",
              " <keras.src.layers.core.activation.Activation at 0x7b2244b0a680>,\n",
              " <keras.src.layers.convolutional.conv2d.Conv2D at 0x7b2244b0ab30>,\n",
              " <keras.src.layers.normalization.batch_normalization.BatchNormalization at 0x7b2244b0a2f0>,\n",
              " <keras.src.layers.core.activation.Activation at 0x7b2244b0b8b0>,\n",
              " <keras.src.layers.convolutional.conv2d.Conv2D at 0x7b224467b2b0>,\n",
              " <keras.src.layers.convolutional.conv2d.Conv2D at 0x7b2244b0bd60>,\n",
              " <keras.src.layers.normalization.batch_normalization.BatchNormalization at 0x7b224467b490>,\n",
              " <keras.src.layers.normalization.batch_normalization.BatchNormalization at 0x7b2244b205e0>,\n",
              " <keras.src.layers.merging.add.Add at 0x7b2244b0af50>,\n",
              " <keras.src.layers.core.activation.Activation at 0x7b2244b22da0>,\n",
              " <keras.src.layers.convolutional.conv2d.Conv2D at 0x7b2244b23310>,\n",
              " <keras.src.layers.normalization.batch_normalization.BatchNormalization at 0x7b2244b239a0>,\n",
              " <keras.src.layers.core.activation.Activation at 0x7b2244b22d40>,\n",
              " <keras.src.layers.convolutional.conv2d.Conv2D at 0x7b226b2e1240>,\n",
              " <keras.src.layers.normalization.batch_normalization.BatchNormalization at 0x7b226b2e13c0>,\n",
              " <keras.src.layers.core.activation.Activation at 0x7b226b2e1e70>,\n",
              " <keras.src.layers.convolutional.conv2d.Conv2D at 0x7b226b2e0c40>,\n",
              " <keras.src.layers.normalization.batch_normalization.BatchNormalization at 0x7b226b2e3370>,\n",
              " <keras.src.layers.merging.add.Add at 0x7b226b2e0d90>,\n",
              " <keras.src.layers.core.activation.Activation at 0x7b226b3bc880>,\n",
              " <keras.src.layers.convolutional.conv2d.Conv2D at 0x7b226b3be080>,\n",
              " <keras.src.layers.normalization.batch_normalization.BatchNormalization at 0x7b226b3be1a0>,\n",
              " <keras.src.layers.core.activation.Activation at 0x7b226b3bf370>,\n",
              " <keras.src.layers.convolutional.conv2d.Conv2D at 0x7b226b3bf820>,\n",
              " <keras.src.layers.normalization.batch_normalization.BatchNormalization at 0x7b226b3be110>,\n",
              " <keras.src.layers.core.activation.Activation at 0x7b226b3bf5b0>,\n",
              " <keras.src.layers.convolutional.conv2d.Conv2D at 0x7b226b3bf3d0>,\n",
              " <keras.src.layers.normalization.batch_normalization.BatchNormalization at 0x7b226b2e0d60>,\n",
              " <keras.src.layers.merging.add.Add at 0x7b2244b21750>,\n",
              " <keras.src.layers.core.activation.Activation at 0x7b2244b0abf0>,\n",
              " <keras.src.layers.convolutional.conv2d.Conv2D at 0x7b226b2e06a0>,\n",
              " <keras.src.layers.normalization.batch_normalization.BatchNormalization at 0x7b226b2fc820>,\n",
              " <keras.src.layers.core.activation.Activation at 0x7b226b2ffac0>,\n",
              " <keras.src.layers.convolutional.conv2d.Conv2D at 0x7b226b310b80>,\n",
              " <keras.src.layers.normalization.batch_normalization.BatchNormalization at 0x7b226b310f40>,\n",
              " <keras.src.layers.core.activation.Activation at 0x7b226b3129b0>,\n",
              " <keras.src.layers.convolutional.conv2d.Conv2D at 0x7b226b3bf4f0>,\n",
              " <keras.src.layers.convolutional.conv2d.Conv2D at 0x7b226b312e60>,\n",
              " <keras.src.layers.normalization.batch_normalization.BatchNormalization at 0x7b2244679930>,\n",
              " <keras.src.layers.normalization.batch_normalization.BatchNormalization at 0x7b226b312650>,\n",
              " <keras.src.layers.merging.add.Add at 0x7b226b313e20>,\n",
              " <keras.src.layers.core.activation.Activation at 0x7b226b31cc70>,\n",
              " <keras.src.layers.convolutional.conv2d.Conv2D at 0x7b226b31dba0>,\n",
              " <keras.src.layers.normalization.batch_normalization.BatchNormalization at 0x7b226b31c730>,\n",
              " <keras.src.layers.core.activation.Activation at 0x7b226b31f3a0>,\n",
              " <keras.src.layers.convolutional.conv2d.Conv2D at 0x7b226b31f880>,\n",
              " <keras.src.layers.normalization.batch_normalization.BatchNormalization at 0x7b226b31e890>,\n",
              " <keras.src.layers.core.activation.Activation at 0x7b226b31fc70>,\n",
              " <keras.src.layers.convolutional.conv2d.Conv2D at 0x7b226b3455a0>,\n",
              " <keras.src.layers.normalization.batch_normalization.BatchNormalization at 0x7b226b345ab0>,\n",
              " <keras.src.layers.merging.add.Add at 0x7b226b3469b0>,\n",
              " <keras.src.layers.core.activation.Activation at 0x7b226b347d60>,\n",
              " <keras.src.layers.convolutional.conv2d.Conv2D at 0x7b226b360490>,\n",
              " <keras.src.layers.normalization.batch_normalization.BatchNormalization at 0x7b226b345d50>,\n",
              " <keras.src.layers.core.activation.Activation at 0x7b226b361bd0>,\n",
              " <keras.src.layers.convolutional.conv2d.Conv2D at 0x7b226b362320>,\n",
              " <keras.src.layers.normalization.batch_normalization.BatchNormalization at 0x7b226b360a00>,\n",
              " <keras.src.layers.core.activation.Activation at 0x7b226b362d10>,\n",
              " <keras.src.layers.convolutional.conv2d.Conv2D at 0x7b226b361ed0>,\n",
              " <keras.src.layers.normalization.batch_normalization.BatchNormalization at 0x7b226b361f00>,\n",
              " <keras.src.layers.merging.add.Add at 0x7b226b362ef0>,\n",
              " <keras.src.layers.core.activation.Activation at 0x7b226b347970>,\n",
              " <keras.src.layers.convolutional.conv2d.Conv2D at 0x7b226b31d210>,\n",
              " <keras.src.layers.normalization.batch_normalization.BatchNormalization at 0x7b226b347e80>,\n",
              " <keras.src.layers.core.activation.Activation at 0x7b226b2fec50>,\n",
              " <keras.src.layers.convolutional.conv2d.Conv2D at 0x7b22446781c0>,\n",
              " <keras.src.layers.normalization.batch_normalization.BatchNormalization at 0x7b226b312c80>,\n",
              " <keras.src.layers.core.activation.Activation at 0x7b2244b0ba00>,\n",
              " <keras.src.layers.convolutional.conv2d.Conv2D at 0x7b226b383760>,\n",
              " <keras.src.layers.normalization.batch_normalization.BatchNormalization at 0x7b226b382620>,\n",
              " <keras.src.layers.merging.add.Add at 0x7b226b383ac0>,\n",
              " <keras.src.layers.core.activation.Activation at 0x7b226b3912d0>,\n",
              " <keras.src.layers.convolutional.conv2d.Conv2D at 0x7b226b393d00>,\n",
              " <keras.src.layers.normalization.batch_normalization.BatchNormalization at 0x7b226b3926e0>,\n",
              " <keras.src.layers.core.activation.Activation at 0x7b226b393fd0>,\n",
              " <keras.src.layers.convolutional.conv2d.Conv2D at 0x7b226b39dae0>,\n",
              " <keras.src.layers.normalization.batch_normalization.BatchNormalization at 0x7b226b39d120>,\n",
              " <keras.src.layers.core.activation.Activation at 0x7b226b39f700>,\n",
              " <keras.src.layers.convolutional.conv2d.Conv2D at 0x7b226b390910>,\n",
              " <keras.src.layers.convolutional.conv2d.Conv2D at 0x7b226b39fbb0>,\n",
              " <keras.src.layers.normalization.batch_normalization.BatchNormalization at 0x7b226b3925f0>,\n",
              " <keras.src.layers.normalization.batch_normalization.BatchNormalization at 0x7b226b39fa90>,\n",
              " <keras.src.layers.merging.add.Add at 0x7b226b39fa60>,\n",
              " <keras.src.layers.core.activation.Activation at 0x7b226b3b1c90>,\n",
              " <keras.src.layers.convolutional.conv2d.Conv2D at 0x7b226b3b24a0>,\n",
              " <keras.src.layers.normalization.batch_normalization.BatchNormalization at 0x7b226b3b2e90>,\n",
              " <keras.src.layers.core.activation.Activation at 0x7b226b3b2830>,\n",
              " <keras.src.layers.convolutional.conv2d.Conv2D at 0x7b2243a44370>,\n",
              " <keras.src.layers.normalization.batch_normalization.BatchNormalization at 0x7b2243a44820>,\n",
              " <keras.src.layers.core.activation.Activation at 0x7b2243a44f70>,\n",
              " <keras.src.layers.convolutional.conv2d.Conv2D at 0x7b2243a45600>,\n",
              " <keras.src.layers.normalization.batch_normalization.BatchNormalization at 0x7b2243a467d0>,\n",
              " <keras.src.layers.merging.add.Add at 0x7b2243a477c0>,\n",
              " <keras.src.layers.core.activation.Activation at 0x7b2243a5c0a0>,\n",
              " <keras.src.layers.convolutional.conv2d.Conv2D at 0x7b2243a44d60>,\n",
              " <keras.src.layers.normalization.batch_normalization.BatchNormalization at 0x7b2243a47bb0>,\n",
              " <keras.src.layers.core.activation.Activation at 0x7b226b391d80>,\n",
              " <keras.src.layers.convolutional.conv2d.Conv2D at 0x7b226b391540>,\n",
              " <keras.src.layers.normalization.batch_normalization.BatchNormalization at 0x7b2244679780>,\n",
              " <keras.src.layers.core.activation.Activation at 0x7b2243a45990>,\n",
              " <keras.src.layers.convolutional.conv2d.Conv2D at 0x7b226b3b3850>,\n",
              " <keras.src.layers.normalization.batch_normalization.BatchNormalization at 0x7b226b383490>,\n",
              " <keras.src.layers.merging.add.Add at 0x7b226b3b3910>,\n",
              " <keras.src.layers.core.activation.Activation at 0x7b2243a5f490>,\n",
              " <keras.src.layers.convolutional.conv2d.Conv2D at 0x7b2243a5eaa0>,\n",
              " <keras.src.layers.normalization.batch_normalization.BatchNormalization at 0x7b2243a5d390>,\n",
              " <keras.src.layers.core.activation.Activation at 0x7b2243a75ab0>,\n",
              " <keras.src.layers.convolutional.conv2d.Conv2D at 0x7b2243a76200>,\n",
              " <keras.src.layers.normalization.batch_normalization.BatchNormalization at 0x7b2243a748e0>,\n",
              " <keras.src.layers.core.activation.Activation at 0x7b2243a76470>,\n",
              " <keras.src.layers.convolutional.conv2d.Conv2D at 0x7b2243a75ae0>,\n",
              " <keras.src.layers.normalization.batch_normalization.BatchNormalization at 0x7b2243a772e0>,\n",
              " <keras.src.layers.merging.add.Add at 0x7b2243a76b90>,\n",
              " <keras.src.layers.core.activation.Activation at 0x7b2243a85ff0>,\n",
              " <keras.src.layers.convolutional.conv2d.Conv2D at 0x7b2243a86e90>,\n",
              " <keras.src.layers.normalization.batch_normalization.BatchNormalization at 0x7b2243a86fb0>,\n",
              " <keras.src.layers.core.activation.Activation at 0x7b2243a87070>,\n",
              " <keras.src.layers.convolutional.conv2d.Conv2D at 0x7b2243a98280>,\n",
              " <keras.src.layers.normalization.batch_normalization.BatchNormalization at 0x7b2243a98640>,\n",
              " <keras.src.layers.core.activation.Activation at 0x7b2243a9a620>,\n",
              " <keras.src.layers.convolutional.conv2d.Conv2D at 0x7b2243a9aad0>,\n",
              " <keras.src.layers.normalization.batch_normalization.BatchNormalization at 0x7b2243a9b1f0>,\n",
              " <keras.src.layers.merging.add.Add at 0x7b2243a9bac0>,\n",
              " <keras.src.layers.core.activation.Activation at 0x7b2243ab05e0>,\n",
              " <keras.src.layers.convolutional.conv2d.Conv2D at 0x7b2243ab09a0>,\n",
              " <keras.src.layers.normalization.batch_normalization.BatchNormalization at 0x7b2243ab1690>,\n",
              " <keras.src.layers.core.activation.Activation at 0x7b2243ab3100>,\n",
              " <keras.src.layers.convolutional.conv2d.Conv2D at 0x7b2243ab35b0>,\n",
              " <keras.src.layers.normalization.batch_normalization.BatchNormalization at 0x7b2243ab3d90>,\n",
              " <keras.src.layers.core.activation.Activation at 0x7b2243ab26b0>,\n",
              " <keras.src.layers.convolutional.conv2d.Conv2D at 0x7b2243a87580>,\n",
              " <keras.src.layers.normalization.batch_normalization.BatchNormalization at 0x7b2243ab07f0>,\n",
              " <keras.src.layers.merging.add.Add at 0x7b2243ab26e0>,\n",
              " <keras.src.layers.core.activation.Activation at 0x7b2243a5ffd0>,\n",
              " <keras.src.layers.convolutional.conv2d.Conv2D at 0x7b2243ac1de0>,\n",
              " <keras.src.layers.normalization.batch_normalization.BatchNormalization at 0x7b2243ac2800>,\n",
              " <keras.src.layers.core.activation.Activation at 0x7b2243ac3e50>,\n",
              " <keras.src.layers.convolutional.conv2d.Conv2D at 0x7b2243ab1990>,\n",
              " <keras.src.layers.normalization.batch_normalization.BatchNormalization at 0x7b2243ac0610>,\n",
              " <keras.src.layers.core.activation.Activation at 0x7b2243ac15d0>,\n",
              " <keras.src.layers.convolutional.conv2d.Conv2D at 0x7b2243ac0f40>,\n",
              " <keras.src.layers.convolutional.conv2d.Conv2D at 0x7b2243ac5d50>,\n",
              " <keras.src.layers.normalization.batch_normalization.BatchNormalization at 0x7b2243ac1330>,\n",
              " <keras.src.layers.normalization.batch_normalization.BatchNormalization at 0x7b2243ac44f0>,\n",
              " <keras.src.layers.merging.add.Add at 0x7b2243ac3f40>,\n",
              " <keras.src.layers.core.activation.Activation at 0x7b2243ac59f0>,\n",
              " <keras.src.layers.convolutional.conv2d.Conv2D at 0x7b2243ac68c0>,\n",
              " <keras.src.layers.normalization.batch_normalization.BatchNormalization at 0x7b2243ac67d0>,\n",
              " <keras.src.layers.core.activation.Activation at 0x7b2243ac7e80>,\n",
              " <keras.src.layers.convolutional.conv2d.Conv2D at 0x7b2243aed990>,\n",
              " <keras.src.layers.normalization.batch_normalization.BatchNormalization at 0x7b2243aeec20>,\n",
              " <keras.src.layers.core.activation.Activation at 0x7b2243aed6c0>,\n",
              " <keras.src.layers.convolutional.conv2d.Conv2D at 0x7b2243aed090>,\n",
              " <keras.src.layers.normalization.batch_normalization.BatchNormalization at 0x7b2243aec910>,\n",
              " <keras.src.layers.merging.add.Add at 0x7b22d0de7d30>,\n",
              " <keras.src.layers.core.activation.Activation at 0x7b2243aeff70>,\n",
              " <keras.src.layers.convolutional.conv2d.Conv2D at 0x7b2243b047f0>,\n",
              " <keras.src.layers.normalization.batch_normalization.BatchNormalization at 0x7b2243b063b0>,\n",
              " <keras.src.layers.core.activation.Activation at 0x7b2243b05e40>,\n",
              " <keras.src.layers.convolutional.conv2d.Conv2D at 0x7b2243b05750>,\n",
              " <keras.src.layers.normalization.batch_normalization.BatchNormalization at 0x7b2243b07940>,\n",
              " <keras.src.layers.core.activation.Activation at 0x7b2243b07970>,\n",
              " <keras.src.layers.convolutional.conv2d.Conv2D at 0x7b2243b077c0>,\n",
              " <keras.src.layers.normalization.batch_normalization.BatchNormalization at 0x7b2243b07760>,\n",
              " <keras.src.layers.merging.add.Add at 0x7b2243b06650>,\n",
              " <keras.src.layers.core.activation.Activation at 0x7b2243b07190>,\n",
              " <keras.src.layers.pooling.global_average_pooling2d.GlobalAveragePooling2D at 0x7b2243b05a80>]"
            ]
          },
          "metadata": {},
          "execution_count": 17
        }
      ],
      "source": [
        "model.layers[0].layers"
      ],
      "execution_count": 17
    },
    {
      "cell_type": "markdown",
      "metadata": {
        "id": "bcc55835-9b6a-4270-a922-ffc842a3b2f7"
      },
      "source": [
        "to train only the dense output layer we run the following\n"
      ]
    },
    {
      "cell_type": "code",
      "metadata": {
        "id": "ba503665-a9ca-456c-8a6a-072767030476"
      },
      "outputs": [],
      "source": [
        "model.layers[0].trainable = False"
      ],
      "execution_count": 18
    },
    {
      "cell_type": "code",
      "metadata": {
        "colab": {
          "base_uri": "https://localhost:8080/"
        },
        "id": "25b95f54-b4f5-4ff5-b9f7-59bd877fc6f2",
        "outputId": "94039bd9-b28c-4399-db55-a84b87f73ae7"
      },
      "outputs": [
        {
          "output_type": "stream",
          "name": "stdout",
          "text": [
            "Model: \"sequential\"\n",
            "_________________________________________________________________\n",
            " Layer (type)                Output Shape              Param #   \n",
            "=================================================================\n",
            " resnet50 (Functional)       (None, 2048)              23587712  \n",
            "                                                                 \n",
            " dense (Dense)               (None, 2)                 4098      \n",
            "                                                                 \n",
            "=================================================================\n",
            "Total params: 23591810 (90.00 MB)\n",
            "Trainable params: 4098 (16.01 KB)\n",
            "Non-trainable params: 23587712 (89.98 MB)\n",
            "_________________________________________________________________\n"
          ]
        }
      ],
      "source": [
        "model.summary()"
      ],
      "execution_count": 19
    },
    {
      "cell_type": "markdown",
      "metadata": {
        "id": "d174115c-5697-4575-a241-c2d6a67b25cf"
      },
      "source": [
        "compile the model using the **adam** optimizer.\n"
      ]
    },
    {
      "cell_type": "code",
      "metadata": {
        "id": "e28af4b7-b584-47d9-a996-f6e1c880e2cf"
      },
      "outputs": [],
      "source": [
        "model.compile(optimizer='adam', loss='categorical_crossentropy', metrics=['accuracy'])"
      ],
      "execution_count": 20
    },
    {
      "cell_type": "markdown",
      "metadata": {
        "id": "9eb49523-42bf-43ec-9932-122c88162abf"
      },
      "source": [
        "define steps per epoch as follows:\n"
      ]
    },
    {
      "cell_type": "code",
      "metadata": {
        "id": "bb075ee5-15d6-4e6c-83e1-8bc4b9c9b927"
      },
      "outputs": [],
      "source": [
        "steps_per_epoch_training = len(train_generator)\n",
        "steps_per_epoch_validation = len(validation_generator)\n",
        "num_epochs = 2"
      ],
      "execution_count": 21
    },
    {
      "cell_type": "code",
      "metadata": {
        "colab": {
          "base_uri": "https://localhost:8080/"
        },
        "id": "6b2a03e7-2a37-424c-ade0-fb9030bd4fa6",
        "outputId": "cd2bffba-67b0-42c8-887b-b1b3978b7533"
      },
      "outputs": [
        {
          "output_type": "stream",
          "name": "stderr",
          "text": [
            "<ipython-input-22-172e67583a70>:1: UserWarning: `Model.fit_generator` is deprecated and will be removed in a future version. Please use `Model.fit`, which supports generators.\n",
            "  fit_history = model.fit_generator(\n"
          ]
        },
        {
          "output_type": "stream",
          "name": "stdout",
          "text": [
            "Epoch 1/2\n",
            "101/101 [==============================] - 2863s 28s/step - loss: 0.0517 - accuracy: 0.9800 - val_loss: 0.0125 - val_accuracy: 0.9958\n",
            "Epoch 2/2\n",
            "101/101 [==============================] - 2817s 28s/step - loss: 0.0067 - accuracy: 0.9989 - val_loss: 0.0087 - val_accuracy: 0.9970\n"
          ]
        }
      ],
      "source": [
        "fit_history = model.fit_generator(\n",
        "    train_generator,\n",
        "    steps_per_epoch=steps_per_epoch_training,\n",
        "    epochs=num_epochs,\n",
        "    validation_data=validation_generator,\n",
        "    validation_steps=steps_per_epoch_validation,\n",
        "    verbose=1,\n",
        ")"
      ],
      "execution_count": 22
    },
    {
      "cell_type": "code",
      "metadata": {
        "colab": {
          "base_uri": "https://localhost:8080/"
        },
        "id": "6886e4e0-12c1-4f92-9131-bb65e9448da1",
        "outputId": "6a0e8b0d-8a6d-40a3-8785-bcc02e068203"
      },
      "outputs": [
        {
          "output_type": "stream",
          "name": "stderr",
          "text": [
            "/usr/local/lib/python3.10/dist-packages/keras/src/engine/training.py:3103: UserWarning: You are saving your model as an HDF5 file via `model.save()`. This file format is considered legacy. We recommend using instead the native Keras format, e.g. `model.save('my_model.keras')`.\n",
            "  saving_api.save_model(\n"
          ]
        }
      ],
      "source": [
        "model.save('classifier_resnet_model.h5')"
      ],
      "execution_count": 23
    },
    {
      "cell_type": "code",
      "source": [
        "model.save('my_model.keras')"
      ],
      "metadata": {
        "id": "hnAHAzIyfw0Z"
      },
      "execution_count": 24,
      "outputs": []
    }
  ],
  "metadata": {
    "kernelspec": {
      "display_name": "Python",
      "language": "python",
      "name": "conda-env-python-py"
    },
    "language_info": {
      "name": ""
    },
    "colab": {
      "provenance": [],
      "gpuType": "V28"
    },
    "accelerator": "TPU",
    "widgets": {
      "application/vnd.jupyter.widget-state+json": {
        "9fba51b816e4436eb1b1bfddd9978096": {
          "model_module": "@jupyter-widgets/controls",
          "model_name": "HBoxModel",
          "model_module_version": "2.0.0",
          "state": {
            "_dom_classes": [],
            "_model_module": "@jupyter-widgets/controls",
            "_model_module_version": "2.0.0",
            "_model_name": "HBoxModel",
            "_view_count": null,
            "_view_module": "@jupyter-widgets/controls",
            "_view_module_version": "2.0.0",
            "_view_name": "HBoxView",
            "box_style": "",
            "children": [
              "IPY_MODEL_71c398330887416c84c4833741fdf97e",
              "IPY_MODEL_a5bd863576c44b6fb4f2292462d75796",
              "IPY_MODEL_9f9e4db71017444db9059273f992a65e"
            ],
            "layout": "IPY_MODEL_d07d01d1ff9e48a3810b3fd9a5b144d6",
            "tabbable": null,
            "tooltip": null
          }
        },
        "71c398330887416c84c4833741fdf97e": {
          "model_module": "@jupyter-widgets/controls",
          "model_name": "HTMLModel",
          "model_module_version": "2.0.0",
          "state": {
            "_dom_classes": [],
            "_model_module": "@jupyter-widgets/controls",
            "_model_module_version": "2.0.0",
            "_model_name": "HTMLModel",
            "_view_count": null,
            "_view_module": "@jupyter-widgets/controls",
            "_view_module_version": "2.0.0",
            "_view_name": "HTMLView",
            "description": "",
            "description_allow_html": false,
            "layout": "IPY_MODEL_bf484b966c824d478a18d04829d72fb5",
            "placeholder": "​",
            "style": "IPY_MODEL_f9f9d3a4d6834ce194e2d381613a8f7d",
            "tabbable": null,
            "tooltip": null,
            "value": "Downloading concrete_data_week3.zip: 100%"
          }
        },
        "a5bd863576c44b6fb4f2292462d75796": {
          "model_module": "@jupyter-widgets/controls",
          "model_name": "FloatProgressModel",
          "model_module_version": "2.0.0",
          "state": {
            "_dom_classes": [],
            "_model_module": "@jupyter-widgets/controls",
            "_model_module_version": "2.0.0",
            "_model_name": "FloatProgressModel",
            "_view_count": null,
            "_view_module": "@jupyter-widgets/controls",
            "_view_module_version": "2.0.0",
            "_view_name": "ProgressView",
            "bar_style": "success",
            "description": "",
            "description_allow_html": false,
            "layout": "IPY_MODEL_e68c02296fe04ea1a24b676bdfb766eb",
            "max": 97863179,
            "min": 0,
            "orientation": "horizontal",
            "style": "IPY_MODEL_48f063f1fc254d76b0632c6e4f8363f6",
            "tabbable": null,
            "tooltip": null,
            "value": 97863179
          }
        },
        "9f9e4db71017444db9059273f992a65e": {
          "model_module": "@jupyter-widgets/controls",
          "model_name": "HTMLModel",
          "model_module_version": "2.0.0",
          "state": {
            "_dom_classes": [],
            "_model_module": "@jupyter-widgets/controls",
            "_model_module_version": "2.0.0",
            "_model_name": "HTMLModel",
            "_view_count": null,
            "_view_module": "@jupyter-widgets/controls",
            "_view_module_version": "2.0.0",
            "_view_name": "HTMLView",
            "description": "",
            "description_allow_html": false,
            "layout": "IPY_MODEL_a753cafcac0a45aeac77f08464a8a5f6",
            "placeholder": "​",
            "style": "IPY_MODEL_c5956c88f44a4ff197a627e36761462c",
            "tabbable": null,
            "tooltip": null,
            "value": " 97863179/97863179 [00:09&lt;00:00, 7924676.65it/s]"
          }
        },
        "d07d01d1ff9e48a3810b3fd9a5b144d6": {
          "model_module": "@jupyter-widgets/base",
          "model_name": "LayoutModel",
          "model_module_version": "2.0.0",
          "state": {
            "_model_module": "@jupyter-widgets/base",
            "_model_module_version": "2.0.0",
            "_model_name": "LayoutModel",
            "_view_count": null,
            "_view_module": "@jupyter-widgets/base",
            "_view_module_version": "2.0.0",
            "_view_name": "LayoutView",
            "align_content": null,
            "align_items": null,
            "align_self": null,
            "border_bottom": null,
            "border_left": null,
            "border_right": null,
            "border_top": null,
            "bottom": null,
            "display": null,
            "flex": null,
            "flex_flow": null,
            "grid_area": null,
            "grid_auto_columns": null,
            "grid_auto_flow": null,
            "grid_auto_rows": null,
            "grid_column": null,
            "grid_gap": null,
            "grid_row": null,
            "grid_template_areas": null,
            "grid_template_columns": null,
            "grid_template_rows": null,
            "height": null,
            "justify_content": null,
            "justify_items": null,
            "left": null,
            "margin": null,
            "max_height": null,
            "max_width": null,
            "min_height": null,
            "min_width": null,
            "object_fit": null,
            "object_position": null,
            "order": null,
            "overflow": null,
            "padding": null,
            "right": null,
            "top": null,
            "visibility": null,
            "width": null
          }
        },
        "bf484b966c824d478a18d04829d72fb5": {
          "model_module": "@jupyter-widgets/base",
          "model_name": "LayoutModel",
          "model_module_version": "2.0.0",
          "state": {
            "_model_module": "@jupyter-widgets/base",
            "_model_module_version": "2.0.0",
            "_model_name": "LayoutModel",
            "_view_count": null,
            "_view_module": "@jupyter-widgets/base",
            "_view_module_version": "2.0.0",
            "_view_name": "LayoutView",
            "align_content": null,
            "align_items": null,
            "align_self": null,
            "border_bottom": null,
            "border_left": null,
            "border_right": null,
            "border_top": null,
            "bottom": null,
            "display": null,
            "flex": null,
            "flex_flow": null,
            "grid_area": null,
            "grid_auto_columns": null,
            "grid_auto_flow": null,
            "grid_auto_rows": null,
            "grid_column": null,
            "grid_gap": null,
            "grid_row": null,
            "grid_template_areas": null,
            "grid_template_columns": null,
            "grid_template_rows": null,
            "height": null,
            "justify_content": null,
            "justify_items": null,
            "left": null,
            "margin": null,
            "max_height": null,
            "max_width": null,
            "min_height": null,
            "min_width": null,
            "object_fit": null,
            "object_position": null,
            "order": null,
            "overflow": null,
            "padding": null,
            "right": null,
            "top": null,
            "visibility": null,
            "width": null
          }
        },
        "f9f9d3a4d6834ce194e2d381613a8f7d": {
          "model_module": "@jupyter-widgets/controls",
          "model_name": "HTMLStyleModel",
          "model_module_version": "2.0.0",
          "state": {
            "_model_module": "@jupyter-widgets/controls",
            "_model_module_version": "2.0.0",
            "_model_name": "HTMLStyleModel",
            "_view_count": null,
            "_view_module": "@jupyter-widgets/base",
            "_view_module_version": "2.0.0",
            "_view_name": "StyleView",
            "background": null,
            "description_width": "",
            "font_size": null,
            "text_color": null
          }
        },
        "e68c02296fe04ea1a24b676bdfb766eb": {
          "model_module": "@jupyter-widgets/base",
          "model_name": "LayoutModel",
          "model_module_version": "2.0.0",
          "state": {
            "_model_module": "@jupyter-widgets/base",
            "_model_module_version": "2.0.0",
            "_model_name": "LayoutModel",
            "_view_count": null,
            "_view_module": "@jupyter-widgets/base",
            "_view_module_version": "2.0.0",
            "_view_name": "LayoutView",
            "align_content": null,
            "align_items": null,
            "align_self": null,
            "border_bottom": null,
            "border_left": null,
            "border_right": null,
            "border_top": null,
            "bottom": null,
            "display": null,
            "flex": null,
            "flex_flow": null,
            "grid_area": null,
            "grid_auto_columns": null,
            "grid_auto_flow": null,
            "grid_auto_rows": null,
            "grid_column": null,
            "grid_gap": null,
            "grid_row": null,
            "grid_template_areas": null,
            "grid_template_columns": null,
            "grid_template_rows": null,
            "height": null,
            "justify_content": null,
            "justify_items": null,
            "left": null,
            "margin": null,
            "max_height": null,
            "max_width": null,
            "min_height": null,
            "min_width": null,
            "object_fit": null,
            "object_position": null,
            "order": null,
            "overflow": null,
            "padding": null,
            "right": null,
            "top": null,
            "visibility": null,
            "width": null
          }
        },
        "48f063f1fc254d76b0632c6e4f8363f6": {
          "model_module": "@jupyter-widgets/controls",
          "model_name": "ProgressStyleModel",
          "model_module_version": "2.0.0",
          "state": {
            "_model_module": "@jupyter-widgets/controls",
            "_model_module_version": "2.0.0",
            "_model_name": "ProgressStyleModel",
            "_view_count": null,
            "_view_module": "@jupyter-widgets/base",
            "_view_module_version": "2.0.0",
            "_view_name": "StyleView",
            "bar_color": null,
            "description_width": ""
          }
        },
        "a753cafcac0a45aeac77f08464a8a5f6": {
          "model_module": "@jupyter-widgets/base",
          "model_name": "LayoutModel",
          "model_module_version": "2.0.0",
          "state": {
            "_model_module": "@jupyter-widgets/base",
            "_model_module_version": "2.0.0",
            "_model_name": "LayoutModel",
            "_view_count": null,
            "_view_module": "@jupyter-widgets/base",
            "_view_module_version": "2.0.0",
            "_view_name": "LayoutView",
            "align_content": null,
            "align_items": null,
            "align_self": null,
            "border_bottom": null,
            "border_left": null,
            "border_right": null,
            "border_top": null,
            "bottom": null,
            "display": null,
            "flex": null,
            "flex_flow": null,
            "grid_area": null,
            "grid_auto_columns": null,
            "grid_auto_flow": null,
            "grid_auto_rows": null,
            "grid_column": null,
            "grid_gap": null,
            "grid_row": null,
            "grid_template_areas": null,
            "grid_template_columns": null,
            "grid_template_rows": null,
            "height": null,
            "justify_content": null,
            "justify_items": null,
            "left": null,
            "margin": null,
            "max_height": null,
            "max_width": null,
            "min_height": null,
            "min_width": null,
            "object_fit": null,
            "object_position": null,
            "order": null,
            "overflow": null,
            "padding": null,
            "right": null,
            "top": null,
            "visibility": null,
            "width": null
          }
        },
        "c5956c88f44a4ff197a627e36761462c": {
          "model_module": "@jupyter-widgets/controls",
          "model_name": "HTMLStyleModel",
          "model_module_version": "2.0.0",
          "state": {
            "_model_module": "@jupyter-widgets/controls",
            "_model_module_version": "2.0.0",
            "_model_name": "HTMLStyleModel",
            "_view_count": null,
            "_view_module": "@jupyter-widgets/base",
            "_view_module_version": "2.0.0",
            "_view_name": "StyleView",
            "background": null,
            "description_width": "",
            "font_size": null,
            "text_color": null
          }
        },
        "25b1c0b765744f028ec698adfc5bb574": {
          "model_module": "@jupyter-widgets/controls",
          "model_name": "HBoxModel",
          "model_module_version": "2.0.0",
          "state": {
            "_dom_classes": [],
            "_model_module": "@jupyter-widgets/controls",
            "_model_module_version": "2.0.0",
            "_model_name": "HBoxModel",
            "_view_count": null,
            "_view_module": "@jupyter-widgets/controls",
            "_view_module_version": "2.0.0",
            "_view_name": "HBoxView",
            "box_style": "",
            "children": [
              "IPY_MODEL_1279f56d6ec341c9b95b04dcba286c40",
              "IPY_MODEL_9520bd98921d410a84776b8b79a7ae8e",
              "IPY_MODEL_059b024ccda943759b8af25fdfc769cd"
            ],
            "layout": "IPY_MODEL_4a699f306cfa4b57bd350f1fb2f54d24",
            "tabbable": null,
            "tooltip": null
          }
        },
        "1279f56d6ec341c9b95b04dcba286c40": {
          "model_module": "@jupyter-widgets/controls",
          "model_name": "HTMLModel",
          "model_module_version": "2.0.0",
          "state": {
            "_dom_classes": [],
            "_model_module": "@jupyter-widgets/controls",
            "_model_module_version": "2.0.0",
            "_model_name": "HTMLModel",
            "_view_count": null,
            "_view_module": "@jupyter-widgets/controls",
            "_view_module_version": "2.0.0",
            "_view_name": "HTMLView",
            "description": "",
            "description_allow_html": false,
            "layout": "IPY_MODEL_0b9be4275975490bac120049bc4873a9",
            "placeholder": "​",
            "style": "IPY_MODEL_54252bdee8bd45d89299b4ff2c3e8877",
            "tabbable": null,
            "tooltip": null,
            "value": "Extracting concrete_data_week3.zip: 100%"
          }
        },
        "9520bd98921d410a84776b8b79a7ae8e": {
          "model_module": "@jupyter-widgets/controls",
          "model_name": "FloatProgressModel",
          "model_module_version": "2.0.0",
          "state": {
            "_dom_classes": [],
            "_model_module": "@jupyter-widgets/controls",
            "_model_module_version": "2.0.0",
            "_model_name": "FloatProgressModel",
            "_view_count": null,
            "_view_module": "@jupyter-widgets/controls",
            "_view_module_version": "2.0.0",
            "_view_name": "ProgressView",
            "bar_style": "success",
            "description": "",
            "description_allow_html": false,
            "layout": "IPY_MODEL_705b8dc0c2dc4cf5b0f839e2ae319757",
            "max": 30036,
            "min": 0,
            "orientation": "horizontal",
            "style": "IPY_MODEL_3881346fba034ef7b86206409feff754",
            "tabbable": null,
            "tooltip": null,
            "value": 30036
          }
        },
        "059b024ccda943759b8af25fdfc769cd": {
          "model_module": "@jupyter-widgets/controls",
          "model_name": "HTMLModel",
          "model_module_version": "2.0.0",
          "state": {
            "_dom_classes": [],
            "_model_module": "@jupyter-widgets/controls",
            "_model_module_version": "2.0.0",
            "_model_name": "HTMLModel",
            "_view_count": null,
            "_view_module": "@jupyter-widgets/controls",
            "_view_module_version": "2.0.0",
            "_view_name": "HTMLView",
            "description": "",
            "description_allow_html": false,
            "layout": "IPY_MODEL_3bce1ae738254d858af7a1a9768ba3fa",
            "placeholder": "​",
            "style": "IPY_MODEL_0eb8f0346f174bb09caf499cc0803fad",
            "tabbable": null,
            "tooltip": null,
            "value": " 30036/30036 [00:05&lt;00:00, 5802.64it/s]"
          }
        },
        "4a699f306cfa4b57bd350f1fb2f54d24": {
          "model_module": "@jupyter-widgets/base",
          "model_name": "LayoutModel",
          "model_module_version": "2.0.0",
          "state": {
            "_model_module": "@jupyter-widgets/base",
            "_model_module_version": "2.0.0",
            "_model_name": "LayoutModel",
            "_view_count": null,
            "_view_module": "@jupyter-widgets/base",
            "_view_module_version": "2.0.0",
            "_view_name": "LayoutView",
            "align_content": null,
            "align_items": null,
            "align_self": null,
            "border_bottom": null,
            "border_left": null,
            "border_right": null,
            "border_top": null,
            "bottom": null,
            "display": null,
            "flex": null,
            "flex_flow": null,
            "grid_area": null,
            "grid_auto_columns": null,
            "grid_auto_flow": null,
            "grid_auto_rows": null,
            "grid_column": null,
            "grid_gap": null,
            "grid_row": null,
            "grid_template_areas": null,
            "grid_template_columns": null,
            "grid_template_rows": null,
            "height": null,
            "justify_content": null,
            "justify_items": null,
            "left": null,
            "margin": null,
            "max_height": null,
            "max_width": null,
            "min_height": null,
            "min_width": null,
            "object_fit": null,
            "object_position": null,
            "order": null,
            "overflow": null,
            "padding": null,
            "right": null,
            "top": null,
            "visibility": null,
            "width": null
          }
        },
        "0b9be4275975490bac120049bc4873a9": {
          "model_module": "@jupyter-widgets/base",
          "model_name": "LayoutModel",
          "model_module_version": "2.0.0",
          "state": {
            "_model_module": "@jupyter-widgets/base",
            "_model_module_version": "2.0.0",
            "_model_name": "LayoutModel",
            "_view_count": null,
            "_view_module": "@jupyter-widgets/base",
            "_view_module_version": "2.0.0",
            "_view_name": "LayoutView",
            "align_content": null,
            "align_items": null,
            "align_self": null,
            "border_bottom": null,
            "border_left": null,
            "border_right": null,
            "border_top": null,
            "bottom": null,
            "display": null,
            "flex": null,
            "flex_flow": null,
            "grid_area": null,
            "grid_auto_columns": null,
            "grid_auto_flow": null,
            "grid_auto_rows": null,
            "grid_column": null,
            "grid_gap": null,
            "grid_row": null,
            "grid_template_areas": null,
            "grid_template_columns": null,
            "grid_template_rows": null,
            "height": null,
            "justify_content": null,
            "justify_items": null,
            "left": null,
            "margin": null,
            "max_height": null,
            "max_width": null,
            "min_height": null,
            "min_width": null,
            "object_fit": null,
            "object_position": null,
            "order": null,
            "overflow": null,
            "padding": null,
            "right": null,
            "top": null,
            "visibility": null,
            "width": null
          }
        },
        "54252bdee8bd45d89299b4ff2c3e8877": {
          "model_module": "@jupyter-widgets/controls",
          "model_name": "HTMLStyleModel",
          "model_module_version": "2.0.0",
          "state": {
            "_model_module": "@jupyter-widgets/controls",
            "_model_module_version": "2.0.0",
            "_model_name": "HTMLStyleModel",
            "_view_count": null,
            "_view_module": "@jupyter-widgets/base",
            "_view_module_version": "2.0.0",
            "_view_name": "StyleView",
            "background": null,
            "description_width": "",
            "font_size": null,
            "text_color": null
          }
        },
        "705b8dc0c2dc4cf5b0f839e2ae319757": {
          "model_module": "@jupyter-widgets/base",
          "model_name": "LayoutModel",
          "model_module_version": "2.0.0",
          "state": {
            "_model_module": "@jupyter-widgets/base",
            "_model_module_version": "2.0.0",
            "_model_name": "LayoutModel",
            "_view_count": null,
            "_view_module": "@jupyter-widgets/base",
            "_view_module_version": "2.0.0",
            "_view_name": "LayoutView",
            "align_content": null,
            "align_items": null,
            "align_self": null,
            "border_bottom": null,
            "border_left": null,
            "border_right": null,
            "border_top": null,
            "bottom": null,
            "display": null,
            "flex": null,
            "flex_flow": null,
            "grid_area": null,
            "grid_auto_columns": null,
            "grid_auto_flow": null,
            "grid_auto_rows": null,
            "grid_column": null,
            "grid_gap": null,
            "grid_row": null,
            "grid_template_areas": null,
            "grid_template_columns": null,
            "grid_template_rows": null,
            "height": null,
            "justify_content": null,
            "justify_items": null,
            "left": null,
            "margin": null,
            "max_height": null,
            "max_width": null,
            "min_height": null,
            "min_width": null,
            "object_fit": null,
            "object_position": null,
            "order": null,
            "overflow": null,
            "padding": null,
            "right": null,
            "top": null,
            "visibility": null,
            "width": null
          }
        },
        "3881346fba034ef7b86206409feff754": {
          "model_module": "@jupyter-widgets/controls",
          "model_name": "ProgressStyleModel",
          "model_module_version": "2.0.0",
          "state": {
            "_model_module": "@jupyter-widgets/controls",
            "_model_module_version": "2.0.0",
            "_model_name": "ProgressStyleModel",
            "_view_count": null,
            "_view_module": "@jupyter-widgets/base",
            "_view_module_version": "2.0.0",
            "_view_name": "StyleView",
            "bar_color": null,
            "description_width": ""
          }
        },
        "3bce1ae738254d858af7a1a9768ba3fa": {
          "model_module": "@jupyter-widgets/base",
          "model_name": "LayoutModel",
          "model_module_version": "2.0.0",
          "state": {
            "_model_module": "@jupyter-widgets/base",
            "_model_module_version": "2.0.0",
            "_model_name": "LayoutModel",
            "_view_count": null,
            "_view_module": "@jupyter-widgets/base",
            "_view_module_version": "2.0.0",
            "_view_name": "LayoutView",
            "align_content": null,
            "align_items": null,
            "align_self": null,
            "border_bottom": null,
            "border_left": null,
            "border_right": null,
            "border_top": null,
            "bottom": null,
            "display": null,
            "flex": null,
            "flex_flow": null,
            "grid_area": null,
            "grid_auto_columns": null,
            "grid_auto_flow": null,
            "grid_auto_rows": null,
            "grid_column": null,
            "grid_gap": null,
            "grid_row": null,
            "grid_template_areas": null,
            "grid_template_columns": null,
            "grid_template_rows": null,
            "height": null,
            "justify_content": null,
            "justify_items": null,
            "left": null,
            "margin": null,
            "max_height": null,
            "max_width": null,
            "min_height": null,
            "min_width": null,
            "object_fit": null,
            "object_position": null,
            "order": null,
            "overflow": null,
            "padding": null,
            "right": null,
            "top": null,
            "visibility": null,
            "width": null
          }
        },
        "0eb8f0346f174bb09caf499cc0803fad": {
          "model_module": "@jupyter-widgets/controls",
          "model_name": "HTMLStyleModel",
          "model_module_version": "2.0.0",
          "state": {
            "_model_module": "@jupyter-widgets/controls",
            "_model_module_version": "2.0.0",
            "_model_name": "HTMLStyleModel",
            "_view_count": null,
            "_view_module": "@jupyter-widgets/base",
            "_view_module_version": "2.0.0",
            "_view_name": "StyleView",
            "background": null,
            "description_width": "",
            "font_size": null,
            "text_color": null
          }
        }
      }
    }
  },
  "nbformat": 4,
  "nbformat_minor": 0
}